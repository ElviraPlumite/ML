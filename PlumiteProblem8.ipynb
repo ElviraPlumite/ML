{
 "cells": [
  {
   "cell_type": "markdown",
   "metadata": {},
   "source": [
    "# Задача 8\n",
    "\n",
    "### В роман одного автора (Льва Толстого) поместили несколько абзацев другого (Михаила Зощенко). Предложить алгоритм, который бы находил бы смену стиля автора (кроме этого текста ничего нет, авторов мы не знаем). Можно представить текст как набор временных рядов или предложить другой способ представления текста для анализа.\n",
    "\n",
    "#### В качестве данных использовались первые две части первого тома \"Войны и Мира\" Толстого. В этот текст был помещен рассказ М.Зощенко \"История болезни\"."
   ]
  },
  {
   "cell_type": "code",
   "execution_count": 337,
   "metadata": {},
   "outputs": [],
   "source": [
    "#Подключаем необходимые библиотеки\n",
    "%matplotlib inline\n",
    "\n",
    "import io\n",
    "import string\n",
    "\n",
    "import random\n",
    "\n",
    "import matplotlib.pyplot as plt\n",
    "\n",
    "from sklearn.model_selection import train_test_split\n",
    "from sklearn import svm"
   ]
  },
  {
   "cell_type": "markdown",
   "metadata": {},
   "source": [
    "Сначала преобразуем текст к удобному для выделения признаков виду. Считаем текстовый файл, из которого удалим все пунктационные знаки и отрывки иностранных языков(т.к. анализ стиля автора будет основан на характеристиках русского языка), представив его как массив слов."
   ]
  },
  {
   "cell_type": "code",
   "execution_count": 338,
   "metadata": {},
   "outputs": [
    {
     "name": "stdout",
     "output_type": "stream",
     "text": [
      "Количество слов во рассказе Зощенко: 784, что составляет 2.9214488001192427% от общего объема текста\n"
     ]
    }
   ],
   "source": [
    "in_data = open(r'''C:\\test\\1709.txt''')\n",
    "list = in_data.readlines()\n",
    "\n",
    "#определяем символы, от которых следует избавиться\n",
    "delimiters = ['\\n', '[', ']', ';', '—', ' ', ',', '.', '?', '!', ':', '(', ')', '«', '»', \"'\"]\n",
    "delimiters += ['a', 'b', 'c', 'd', 'e', 'f', 'g', 'h', 'i', 'j', 'k', 'l', 'm', 'n','o', 'p', 'q', 'r', 's', 't', 'u', 'v', 'w', 'x', 'y','z']\n",
    "delimiters += ['A', 'B', 'C', 'D', 'E', 'F', 'G', 'H', 'I', 'J', 'K', 'L', 'M', 'N','O', 'P', 'Q', 'R', 'S', 'T', 'U', 'V', 'W', 'X', 'Y','Z']\n",
    "\n",
    "#последовательно удаляем их\n",
    "words = list\n",
    "for delimiter in delimiters:\n",
    "    new_words = []\n",
    "    for word in words:\n",
    "        new_words += word.split(delimiter)\n",
    "    words = new_words\n",
    "    \n",
    "while '' in words:\n",
    "    words.remove('')\n",
    "\n",
    "#чтобы в дальнейшем оценить ошибку обученной модели, определим положение рассказа в тексте \n",
    "\n",
    "begin = 0 #начало \n",
    "end = 0 #конец\n",
    "    \n",
    "for i in range(len(words)): \n",
    "    if words[i] == '*' and begin == 0: begin = i\n",
    "    elif words[i] == '*': end = i\n",
    "        \n",
    "#приведем все буквы к нижнему регистру\n",
    "for i in range(len(words)): \n",
    "    words[i] = words[i].lower()\n",
    "\n",
    "print(\"Количество слов во рассказе Зощенко: \" + str(end - begin) + \", что составляет \" + str(100*(end - begin)/len(words)) + \"% от общего объема текста\")\n",
    "#for x in words: print(x)"
   ]
  },
  {
   "cell_type": "code",
   "execution_count": 355,
   "metadata": {},
   "outputs": [
    {
     "name": "stdout",
     "output_type": "stream",
     "text": [
      "Исходный фрагмент состоит из 26836 слов\n",
      "Для каждой выборки возьмем по 7 слов(а)\n",
      "Создаем 20000 выборок для обучения \n"
     ]
    }
   ],
   "source": [
    "#Количество слов в исходном фрагменте\n",
    "Num_Samples = len(words)\n",
    "print(\"Исходный фрагмент состоит из \" + str(Num_Samples) + \" слов\")\n",
    "\n",
    "#Количество слов в одной выборке\n",
    "Length_Sample = 7\n",
    "print(\"Для каждой выборки возьмем по \" + str(Length_Sample) +  \" слов(а)\")\n",
    "\n",
    "#сколько будет создано выборок для обучения\n",
    "Volume = round(0.8*Num_Samples)\n",
    "Volume = 20000\n",
    "print(\"Создаем \" + str(Volume) + \" выборок для обучения \")"
   ]
  },
  {
   "cell_type": "code",
   "execution_count": 356,
   "metadata": {},
   "outputs": [],
   "source": [
    "Samples = [] #массив строк\n",
    "Class = [0.2]*Volume #классификация выборок для оценки эффективности\n",
    "\n",
    "#получаем выборку, выбирая начало фрагмента случайным образом\n",
    "for i in range(0, Volume-1):\n",
    "    a = random.randint(1, Num_Samples-Length_Sample-2)\n",
    "    if a >= begin and a < end - Length_Sample: Class[i] = 0\n",
    "    for j in range(Length_Sample):       \n",
    "        Samples.append('')\n",
    "        Samples[i] += words[a+j]\n",
    "        Samples[i] += ' '\n",
    "    Samples[i] = str(Samples[i])\n",
    "    \n",
    "        \n",
    "#for i in range(Volume): print(Samples[i])"
   ]
  },
  {
   "cell_type": "code",
   "execution_count": 357,
   "metadata": {},
   "outputs": [],
   "source": [
    "#формируем массив 50-ти самых часто используемых биграмм русского языка\n",
    "\n",
    "bigramms = ['ав', 'ан','ва', 'ве', 'во','го','ел','ен','за','ин']\n",
    "\n",
    "bigramms += ['ко', 'ле','ли','ло','на','не','ни','но','ов','ог']\n",
    "\n",
    "bigramms += ['од', 'ол','ом','он','ло','ас','ер','ес','ет','ль']\n",
    "\n",
    "bigramms += ['ны', 'ор','ос','от','пр','ра','ре','ро','ск','та']\n",
    "\n",
    "bigramms += ['те', 'ти','то','ст','де','ои','ис','ит','об','ее']\n"
   ]
  },
  {
   "cell_type": "markdown",
   "metadata": {},
   "source": [
    "Для каждой строки из созданного массива фрагментов определяем значение признаков. Всего признаков будет 50: ими будет частота использования каждой из биграмм."
   ]
  },
  {
   "cell_type": "code",
   "execution_count": 358,
   "metadata": {},
   "outputs": [],
   "source": [
    "#формируем матрицу признаков\n",
    "dataset = [[0] * 51 for i in range(Volume)]\n",
    "\n",
    "for i in range(Volume):\n",
    "    dataset[i][50] = Class[i]\n",
    "    for j in range(0,49):\n",
    "        for k in range(0, len(Samples[i])-1):\n",
    "            if str(Samples[i][k]+Samples[i][k+1]) == str(bigramms[j]): dataset[i][j] +=1/50\n",
    "                \n",
    "X = dataset\n",
    "\n",
    "#отправляем на обучение 70% матрицы\n",
    "from sklearn.cross_validation import train_test_split as train\n",
    "X_train, X_test = train(X,test_size = 0.3,random_state = 42)    \n",
    "\n",
    "    \n",
    "#for line in dataset: print(line)"
   ]
  },
  {
   "cell_type": "code",
   "execution_count": 359,
   "metadata": {},
   "outputs": [
    {
     "name": "stdout",
     "output_type": "stream",
     "text": [
      "0.07316666666666677\n"
     ]
    }
   ],
   "source": [
    "#параметр вывода массива\n",
    "#import numpy \n",
    "#numpy.set_printoptions(threshold=numpy.nan)\n",
    "\n",
    "#задаем классификатор\n",
    "clf = svm.OneClassSVM(nu=0.1,kernel = \"linear\", gamma =0.1)\n",
    "y_score = clf.fit(X_train)\n",
    "pred = clf.predict(X_test)\n",
    "\n",
    "#значение будущей ошибки\n",
    "#ошибку будем определять как отношение неправильно классифицированных фрагментов к общему числу выборок\n",
    "error = 0\n",
    "\n",
    "for i in range(len(X_test)): \n",
    "    if pred[i] == 1 and X_test[i][50] == 0:error += 1/len(X_test)\n",
    "    elif pred[i] == -1 and X_test[i][50] == 0.2:error += 1/len(X_test)\n",
    "    #elif pred[i] == -1: print(X_test[i])\n",
    "\n",
    "print(error)\n",
    "#print(pred)"
   ]
  },
  {
   "cell_type": "code",
   "execution_count": 361,
   "metadata": {},
   "outputs": [
    {
     "data": {
      "image/png": "[encoded data removed]",
      "text/plain": [
       "<matplotlib.figure.Figure at 0xe77e2ac860>"
      ]
     },
     "metadata": {},
     "output_type": "display_data"
    }
   ],
   "source": [
    "k = [5, 10, 25]\n",
    "accur = [[0.9234, 0.9323, 0.9356, 0.9389], [0.9187, 0.915, 0.927, 0.9214], [0.9269, 0.9269, 0.9282, 0.9344]]\n",
    "\n",
    "\n",
    "plt.xlabel('Number of words in trainig set')\n",
    "plt.ylabel('Accuracy')\n",
    "plt.plot(k, accur)\n",
    "plt.show()"
   ]
  },
  {
   "cell_type": "code",
   "execution_count": null,
   "metadata": {},
   "outputs": [],
   "source": []
  }
 ],
 "metadata": {
  "kernelspec": {
   "display_name": "Python 3",
   "language": "python",
   "name": "python3"
  },
  "language_info": {
   "codemirror_mode": {
    "name": "ipython",
    "version": 3
   },
   "file_extension": ".py",
   "mimetype": "text/x-python",
   "name": "python",
   "nbconvert_exporter": "python",
   "pygments_lexer": "ipython3",
   "version": "3.6.4"
  }
 },
 "nbformat": 4,
 "nbformat_minor": 2
}
